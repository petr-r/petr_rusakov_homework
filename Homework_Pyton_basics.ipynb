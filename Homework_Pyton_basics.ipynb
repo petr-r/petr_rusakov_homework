{
 "cells": [
  {
   "cell_type": "code",
   "execution_count": 17,
   "metadata": {},
   "outputs": [
    {
     "name": "stdout",
     "output_type": "stream",
     "text": [
      "Фраза 1 длиннее фразы 2\n"
     ]
    }
   ],
   "source": [
    "phrase_1 = 'Насколько проще было бы писать программы, если бы не заказчики'\n",
    "phrase_2 = '640Кб должно хватить для любых задач. Билл Гейтс (по легенде)'\n",
    "if len(phrase_1) > len(phrase_2):\n",
    "    print('Фраза 1 длиннее фразы 2')\n",
    "elif len(phrase_1) == len(phrase_2):\n",
    "    print('Фраза 1 одинаковой длины с фразой 2')\n",
    "else:\n",
    "    print('Фраза 2 длиннее фразы 1')\n"
   ]
  },
  {
   "cell_type": "code",
   "execution_count": 29,
   "metadata": {},
   "outputs": [
    {
     "name": "stdout",
     "output_type": "stream",
     "text": [
      "Обычный год\n"
     ]
    }
   ],
   "source": [
    "year = 2200\n",
    "if year %400 == 0:\n",
    "    print('Високосный год')\n",
    "elif year %100 == 0:\n",
    "    print('Обычный год')\n",
    "elif year %4 == 0:\n",
    "    print('Високосный год')\n",
    "else:\n",
    "    print('Обычный год')"
   ]
  },
  {
   "cell_type": "code",
   "execution_count": 44,
   "metadata": {},
   "outputs": [
    {
     "name": "stdout",
     "output_type": "stream",
     "text": [
      "Введите день:20\n",
      "Введите месяц:сентябрь\n",
      "Ваш знак зодиака: Дева\n"
     ]
    }
   ],
   "source": [
    "birth_date = int(input('Введите день:'))\n",
    "birth_month = input('Введите месяц:').lower()\n",
    "\n",
    "if birth_date >= 22 and birth_month == 'декабрь':\n",
    "    print('Ваш знак зодиака: Козерог')\n",
    "elif birth_date <= 19 and birth_month == 'январь':\n",
    "    print('Ваш знак зодиака: Козерог') \n",
    "\n",
    "if birth_date >= 20 and birth_month == 'январь':\n",
    "    print('Ваш знак зодиака: Водолей')\n",
    "elif birth_date <= 19 and birth_month == 'февраль':\n",
    "    print('Ваш знак зодиака: Водолей') \n",
    "    \n",
    "if birth_date >= 20 and birth_month == 'февраль':\n",
    "    print('Ваш знак зодиака: Рыбы')\n",
    "elif birth_date <= 21 and birth_month == 'март':\n",
    "    print('Ваш знак зодиака: Рыбы') \n",
    "    \n",
    "if birth_date >= 22 and birth_month == 'март':\n",
    "    print('Ваш знак зодиака: Овен')\n",
    "elif birth_date <= 21 and birth_month == 'апрель':\n",
    "    print('Ваш знак зодиака: Овен') \n",
    "\n",
    "if birth_date >= 22 and birth_month == 'апрель':\n",
    "    print('Ваш знак зодиака: Телец')\n",
    "elif birth_date <= 21 and birth_month == 'май':\n",
    "    print('Ваш знак зодиака: Телец') \n",
    "    \n",
    "if birth_date >= 22 and birth_month == 'май':\n",
    "    print('Ваш знак зодиака: Близнецы')\n",
    "elif birth_date <= 21 and birth_month == 'июнь':\n",
    "    print('Ваш знак зодиака: Близнецы')\n",
    "    \n",
    "if birth_date >= 22 and birth_month == 'июнь':\n",
    "    print('Ваш знак зодиака: Рак')\n",
    "elif birth_date <= 21 and birth_month == 'июль':\n",
    "    print('Ваш знак зодиака: Рак')\n",
    "    \n",
    "if birth_date >= 22 and birth_month == 'июль':\n",
    "    print('Ваш знак зодиака: Лев')\n",
    "elif birth_date <= 21 and birth_month == 'август':\n",
    "    print('Ваш знак зодиака: Лев')\n",
    "\n",
    "if birth_date >= 22 and birth_month == 'август':\n",
    "    print('Ваш знак зодиака: Дева')\n",
    "elif birth_date <= 21 and birth_month == 'сентябрь':\n",
    "    print('Ваш знак зодиака: Дева')\n",
    "    \n",
    "if birth_date >= 22 and birth_month == 'сентябрь':\n",
    "    print('Ваш знак зодиака: Весы')\n",
    "elif birth_date <= 21 and birth_month == 'октябрь':\n",
    "    print('Ваш знак зодиака: Весы')\n",
    "    \n",
    "if birth_date >= 22 and birth_month == 'октябрь':\n",
    "    print('Ваш знак зодиака: Скорпион')\n",
    "elif birth_date <= 20 and birth_month == 'ноябрь':\n",
    "    print('Ваш знак зодиака: Скорпион')\n",
    "    \n",
    "if birth_date >= 21 and birth_month == 'ноябрь':\n",
    "    print('Ваш знак зодиака: Стрелец')\n",
    "elif birth_date <= 21 and birth_month == 'декабрь':\n",
    "    print('Ваш знак зодиака: Стрелец') "
   ]
  },
  {
   "cell_type": "code",
   "execution_count": 38,
   "metadata": {},
   "outputs": [
    {
     "name": "stdout",
     "output_type": "stream",
     "text": [
      "Стандартная коробка №3\n"
     ]
    }
   ],
   "source": [
    "width = 10\n",
    "length = 60\n",
    "height = 5\n",
    "\n",
    "if width < 15 and length < 15 and height < 15:\n",
    "    print('Коробка №1')\n",
    "elif width > 15 and width < 50 or length > 15 and length < 50 or height > 15 and height <50:\n",
    "    print('Коробка №2')\n",
    "elif length > 200:\n",
    "    print('Упаковка для лыж')\n",
    "else:\n",
    "    print('Стандартная коробка №3')"
   ]
  }
 ],
 "metadata": {
  "kernelspec": {
   "display_name": "Python 3",
   "language": "python",
   "name": "python3"
  },
  "language_info": {
   "codemirror_mode": {
    "name": "ipython",
    "version": 3
   },
   "file_extension": ".py",
   "mimetype": "text/x-python",
   "name": "python",
   "nbconvert_exporter": "python",
   "pygments_lexer": "ipython3",
   "version": "3.8.3"
  }
 },
 "nbformat": 4,
 "nbformat_minor": 4
}
