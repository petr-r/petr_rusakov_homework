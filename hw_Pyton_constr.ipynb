{
 "cells": [
  {
   "cell_type": "code",
   "execution_count": 3,
   "metadata": {},
   "outputs": [
    {
     "name": "stdout",
     "output_type": "stream",
     "text": [
      "Введите слово: test\n",
      "es\n"
     ]
    }
   ],
   "source": [
    "word = input('Введите слово: ')\n",
    "\n",
    "x = len(word) / 2\n",
    "\n",
    "if len(word) %2 == 0:\n",
    "    print(word[int(x)-1:int(x)+1])\n",
    "else:\n",
    "    print(word[int(x)])"
   ]
  },
  {
   "cell_type": "code",
   "execution_count": 1,
   "metadata": {},
   "outputs": [
    {
     "name": "stdout",
     "output_type": "stream",
     "text": [
      "Введите число: 4\n",
      "Введите число: 5\n",
      "Введите число: 0\n",
      "Сумма  9\n"
     ]
    }
   ],
   "source": [
    "x = 0\n",
    "while True:\n",
    "    number = int(input('Введите число: '))\n",
    "    x += number\n",
    "    if number == 0:\n",
    "        print ('Сумма ', x)\n",
    "        break"
   ]
  },
  {
   "cell_type": "code",
   "execution_count": 75,
   "metadata": {},
   "outputs": [
    {
     "name": "stdout",
     "output_type": "stream",
     "text": [
      "Идеальные пары:\n",
      "Alex и Emma\n",
      "Arthur и Kate\n",
      "John и Kira\n",
      "Peter и Liza\n",
      "Richard и Trisha\n"
     ]
    }
   ],
   "source": [
    "boys = ('Peter', 'Alex', 'John', 'Arthur', 'Richard')\n",
    "girls = ('Kate', 'Liza', 'Kira', 'Emma', 'Trisha')\n",
    "\n",
    "if len(boys) != len(girls):\n",
    "    print('Внимание, кто-то может остаться без пары!')\n",
    "\n",
    "else:\n",
    "    len(boys) == len(girls)\n",
    "    pairs = zip(sorted(boys), sorted(girls))\n",
    "    print('Идеальные пары:')\n",
    "    for boy, girl in pairs:\n",
    "        print(boy, 'и', girl)"
   ]
  },
  {
   "cell_type": "code",
   "execution_count": 68,
   "metadata": {},
   "outputs": [
    {
     "name": "stdout",
     "output_type": "stream",
     "text": [
      "Средняя температура в странах:\n",
      "23.9 C\n",
      "13.8 C\n",
      "3.7 C\n",
      "12.0 C\n"
     ]
    }
   ],
   "source": [
    "Thailand = (75.2, 77, 78.8, 73.4, 68, 75.2, 77)\n",
    "Germany = (57.2, 55.4, 59, 59, 53.6)\n",
    "Russia = (35.6, 37.4, 39.2, 41, 42.8, 39.2, 35.6)\n",
    "Poland = (50, 50, 53.6, 57.2, 55.4, 55.4)\n",
    "\n",
    "print('Средняя температура в странах:')\n",
    "average_Thailand = (5 / 9) * ((sum(Thailand) / len(Thailand) - 32))\n",
    "print(round(average_Thailand,1), 'C')\n",
    "average_Germany = (5 / 9) * ((sum(Germany) / len(Germany) - 32))\n",
    "print(round(average_Germany,1), 'C')\n",
    "average_Russia = (5 / 9) * ((sum(Russia) / len(Russia) - 32))\n",
    "print(round(average_Russia,1), 'C')\n",
    "average_Poland = (5 / 9) * ((sum(Poland) / len(Poland) - 32))\n",
    "print(round(average_Poland,1), 'C')"
   ]
  }
 ],
 "metadata": {
  "kernelspec": {
   "display_name": "Python 3",
   "language": "python",
   "name": "python3"
  },
  "language_info": {
   "codemirror_mode": {
    "name": "ipython",
    "version": 3
   },
   "file_extension": ".py",
   "mimetype": "text/x-python",
   "name": "python",
   "nbconvert_exporter": "python",
   "pygments_lexer": "ipython3",
   "version": "3.8.3"
  }
 },
 "nbformat": 4,
 "nbformat_minor": 4
}
